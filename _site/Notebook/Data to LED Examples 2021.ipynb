{
 "cells": [
  {
   "cell_type": "markdown",
   "metadata": {},
   "source": [
    "# Data to LED Examples\n",
    "\n",
    "This notebook will adjust LEDS connected to pins 18-21"
   ]
  },
  {
   "cell_type": "markdown",
   "metadata": {},
   "source": [
    "# Steps to use a numbered GPIO PIN\n",
    "1. import GPIO library\n",
    "2. clear the warnings\n",
    "3. set GPIO.BCM mode\n",
    "4. set the pin as output\n"
   ]
  },
  {
   "cell_type": "code",
   "execution_count": 1,
   "metadata": {},
   "outputs": [
    {
     "name": "stdout",
     "output_type": "stream",
     "text": [
      "Current working directory:\n",
      "/home/pi/Desktop/data\n",
      "\n",
      "Available files:\n",
      "recordings-072921-161554.csv  recordings-073021-114357.csv\n",
      "recordings-073021-111006.csv  recordings-073021-151701.csv\n"
     ]
    }
   ],
   "source": [
    "print (\"Current working directory:\")\n",
    "!pwd\n",
    "print (\"\\nAvailable files:\")\n",
    "!ls *.csv"
   ]
  },
  {
   "cell_type": "code",
   "execution_count": 2,
   "metadata": {},
   "outputs": [],
   "source": [
    "# Insert the file name\n",
    "datafile = 'recordings-073021-151701.csv'"
   ]
  },
  {
   "cell_type": "code",
   "execution_count": 3,
   "metadata": {},
   "outputs": [
    {
     "data": {
      "text/html": [
       "<div>\n",
       "<style scoped>\n",
       "    .dataframe tbody tr th:only-of-type {\n",
       "        vertical-align: middle;\n",
       "    }\n",
       "\n",
       "    .dataframe tbody tr th {\n",
       "        vertical-align: top;\n",
       "    }\n",
       "\n",
       "    .dataframe thead th {\n",
       "        text-align: right;\n",
       "    }\n",
       "</style>\n",
       "<table border=\"1\" class=\"dataframe\">\n",
       "  <thead>\n",
       "    <tr style=\"text-align: right;\">\n",
       "      <th></th>\n",
       "      <th>date</th>\n",
       "      <th>time</th>\n",
       "      <th>temperature</th>\n",
       "      <th>humidity</th>\n",
       "      <th>pressure</th>\n",
       "      <th>lux</th>\n",
       "      <th>oxidizing</th>\n",
       "      <th>reducing</th>\n",
       "      <th>nh3</th>\n",
       "    </tr>\n",
       "  </thead>\n",
       "  <tbody>\n",
       "    <tr>\n",
       "      <th>0</th>\n",
       "      <td>07/30/21</td>\n",
       "      <td>15:17:01</td>\n",
       "      <td>22.501424</td>\n",
       "      <td>94.338431</td>\n",
       "      <td>695.425250</td>\n",
       "      <td>29.04625</td>\n",
       "      <td>15544.715447</td>\n",
       "      <td>695219.512195</td>\n",
       "      <td>76473.11828</td>\n",
       "    </tr>\n",
       "    <tr>\n",
       "      <th>1</th>\n",
       "      <td>07/30/21</td>\n",
       "      <td>15:17:02</td>\n",
       "      <td>32.140563</td>\n",
       "      <td>42.397307</td>\n",
       "      <td>989.865529</td>\n",
       "      <td>12.96480</td>\n",
       "      <td>15544.715447</td>\n",
       "      <td>695219.512195</td>\n",
       "      <td>76473.11828</td>\n",
       "    </tr>\n",
       "    <tr>\n",
       "      <th>2</th>\n",
       "      <td>07/30/21</td>\n",
       "      <td>15:17:03</td>\n",
       "      <td>32.141544</td>\n",
       "      <td>42.397305</td>\n",
       "      <td>989.867037</td>\n",
       "      <td>12.96480</td>\n",
       "      <td>15544.715447</td>\n",
       "      <td>704493.827160</td>\n",
       "      <td>76473.11828</td>\n",
       "    </tr>\n",
       "    <tr>\n",
       "      <th>3</th>\n",
       "      <td>07/30/21</td>\n",
       "      <td>15:17:04</td>\n",
       "      <td>32.144486</td>\n",
       "      <td>42.397298</td>\n",
       "      <td>989.871561</td>\n",
       "      <td>12.96480</td>\n",
       "      <td>15544.715447</td>\n",
       "      <td>695219.512195</td>\n",
       "      <td>76473.11828</td>\n",
       "    </tr>\n",
       "    <tr>\n",
       "      <th>4</th>\n",
       "      <td>07/30/21</td>\n",
       "      <td>15:17:05</td>\n",
       "      <td>32.146121</td>\n",
       "      <td>42.403372</td>\n",
       "      <td>989.869022</td>\n",
       "      <td>12.96480</td>\n",
       "      <td>15544.715447</td>\n",
       "      <td>695219.512195</td>\n",
       "      <td>76473.11828</td>\n",
       "    </tr>\n",
       "  </tbody>\n",
       "</table>\n",
       "</div>"
      ],
      "text/plain": [
       "       date      time  temperature   humidity    pressure       lux  \\\n",
       "0  07/30/21  15:17:01    22.501424  94.338431  695.425250  29.04625   \n",
       "1  07/30/21  15:17:02    32.140563  42.397307  989.865529  12.96480   \n",
       "2  07/30/21  15:17:03    32.141544  42.397305  989.867037  12.96480   \n",
       "3  07/30/21  15:17:04    32.144486  42.397298  989.871561  12.96480   \n",
       "4  07/30/21  15:17:05    32.146121  42.403372  989.869022  12.96480   \n",
       "\n",
       "      oxidizing       reducing          nh3  \n",
       "0  15544.715447  695219.512195  76473.11828  \n",
       "1  15544.715447  695219.512195  76473.11828  \n",
       "2  15544.715447  704493.827160  76473.11828  \n",
       "3  15544.715447  695219.512195  76473.11828  \n",
       "4  15544.715447  695219.512195  76473.11828  "
      ]
     },
     "execution_count": 3,
     "metadata": {},
     "output_type": "execute_result"
    }
   ],
   "source": [
    "# Libraries needed to do the work\n",
    "import pandas as pd # The Pandas library makes it easier to work with data\n",
    "import numpy as np # Numpy adds additional numerical methods (math functions)\n",
    "import matplotlib.pyplot as plt\n",
    "from matplotlib import style\n",
    "\n",
    "style.use('fivethirtyeight')\n",
    "\n",
    "# Read in the csv datafile from above, and save it to the Pandas \"dataframe\" named sensor_data\n",
    "# and add the header names to match the data\n",
    "sensor_data = pd.read_csv(datafile)\n",
    "\n",
    "# Print the first 5 lines of the dataframe named sensor_data\n",
    "sensor_data.head()"
   ]
  },
  {
   "cell_type": "code",
   "execution_count": 4,
   "metadata": {},
   "outputs": [],
   "source": [
    "import RPi.GPIO as GPIO   ## Library that allows the GPIO pins to be used\n",
    "import time\n",
    "##Setup the GPIO Pins\n",
    "for pin in range(18,22):\n",
    "    GPIO.setwarnings(False)  ## Removes any warnings if the pin was previously used\n",
    "    GPIO.setmode(GPIO.BCM)   ## Allows the use of the GPIO pin numbers instead of the physical pin numbers\n",
    "    GPIO.setup(pin,GPIO.OUT)\n",
    "    GPIO.output(pin,GPIO.LOW) ## Sets GPIO pin 21 output voltage low/off"
   ]
  },
  {
   "cell_type": "markdown",
   "metadata": {},
   "source": [
    "# Lights adjust based on the Humidity readings\n",
    "\n",
    "More leds will turn on based on the humidity reading found in the data set"
   ]
  },
  {
   "cell_type": "code",
   "execution_count": 6,
   "metadata": {},
   "outputs": [
    {
     "name": "stdout",
     "output_type": "stream",
     "text": [
      "The maximum humidity in the data is:  94.33843134700204\n"
     ]
    }
   ],
   "source": [
    "max_humidity = sensor_data[\"humidity\"].max()\n",
    "print(\"The maximum humidity in the data is: \", max_humidity)"
   ]
  },
  {
   "cell_type": "code",
   "execution_count": 8,
   "metadata": {},
   "outputs": [
    {
     "data": {
      "text/plain": [
       "21"
      ]
     },
     "execution_count": 8,
     "metadata": {},
     "output_type": "execute_result"
    }
   ],
   "source": [
    "# Using NumPY Interpolation the below interpolates the sensors data into a given range which in\n",
    "# this case are the number of LEDS connected\n",
    "# np.interp(sensorvalue, [min of all sensorvalues, max of all sensorvalues] , [first led pin, last led pin])\n",
    "int(np.interp(max_humidity, [sensor_data[\"humidity\"].min(),sensor_data[\"humidity\"].max()], [18,21]))"
   ]
  },
  {
   "cell_type": "code",
   "execution_count": 10,
   "metadata": {},
   "outputs": [],
   "source": [
    "## Cycle through all the values in the data set under Humidity\n",
    "for sensorvalue in sensor_data[\"humidity\"]:\n",
    "    #Interpolate the current value\n",
    "    pin = int(np.interp(sensorvalue, [sensor_data[\"humidity\"].min(),sensor_data[\"humidity\"].max()], [18,21]))\n",
    "    #Turn on the number of pins up to the interpolated value\n",
    "    for pins in range(18, 22):\n",
    "        GPIO.output(pins,GPIO.HIGH)\n",
    "    time.sleep(2)\n",
    "    #Turn all the pins off before checking the next value\n",
    "    for pin_off in range(18,22):\n",
    "        GPIO.output(pins,GPIO.LOW)\n",
    "    time.sleep(1)\n",
    "# Turn all pins off\n",
    "for pin_off in range(18,22):\n",
    "        GPIO.output(pin_off,GPIO.LOW)"
   ]
  },
  {
   "cell_type": "markdown",
   "metadata": {},
   "source": [
    "# Stop Light Colors from Data\n",
    "\n",
    "Connect:\n",
    "* Red LED to pin 18\n",
    "* Yellow LED to pin 19\n",
    "* Green LED to pin 20"
   ]
  },
  {
   "cell_type": "code",
   "execution_count": 12,
   "metadata": {},
   "outputs": [
    {
     "name": "stdout",
     "output_type": "stream",
     "text": [
      "The maximum value for lux in the data is:  29.04625\n",
      "20\n",
      "The min value for lux in the data is:  12.9648\n",
      "18\n",
      "The mean value for lux in the data is:  15.310590833333334\n",
      "18\n"
     ]
    }
   ],
   "source": [
    "#Using Analog channel 0 (A0) for this example\n",
    "# np.interp(sensorvalue, [min of all sensorvalues, max of all sensorvalues] , [first led pin, last led pin])\n",
    "max_a0 = sensor_data[\"lux\"].max()\n",
    "print(\"The maximum value for lux in the data is: \", max_a0)\n",
    "print(int(np.interp(max_a0, [sensor_data[\"lux\"].min(),sensor_data[\"lux\"].max()], [18,20])))\n",
    "min_a0 = sensor_data[\"lux\"].min()\n",
    "print(\"The min value for lux in the data is: \", min_a0)\n",
    "print(int(np.interp(min_a0, [sensor_data[\"lux\"].min(),sensor_data[\"lux\"].max()], [18,20])))\n",
    "mean_a0 = sensor_data[\"lux\"].mean()\n",
    "print(\"The mean value for lux in the data is: \", mean_a0)\n",
    "print(int(np.interp(mean_a0, [sensor_data[\"lux\"].min(),sensor_data[\"lux\"].max()], [18,20])))"
   ]
  },
  {
   "cell_type": "markdown",
   "metadata": {},
   "source": [
    "#### Note: Analog sensors generally have higher readings when nothing is detected and lower reading when something is detected. "
   ]
  },
  {
   "cell_type": "code",
   "execution_count": 15,
   "metadata": {},
   "outputs": [],
   "source": [
    "# An easily changeable value to pick which sensor to use\n",
    "sensor_value_name = \"nh3\"\n",
    "pins_to_use = [18,20]\n",
    "# Cycle through all the values in the data set under Humidity\n",
    "for sensorvalue in sensor_data[sensor_value_name]:\n",
    "    #Interpolate the current value\n",
    "    pin = int(np.interp(sensorvalue, [sensor_data[sensor_value_name].min(),sensor_data[sensor_value_name].max()], pins_to_use))\n",
    "    GPIO.output(pin,GPIO.HIGH)\n",
    "    time.sleep(2)\n",
    "    #Turn all the pins off before checking the next value\n",
    "    GPIO.output(pin,GPIO.LOW)\n",
    "    time.sleep(1)\n"
   ]
  },
  {
   "cell_type": "markdown",
   "metadata": {},
   "source": [
    "# Turn all LEDS (pins) Off"
   ]
  },
  {
   "cell_type": "code",
   "execution_count": 8,
   "metadata": {},
   "outputs": [],
   "source": [
    "for pin in range (18,22):\n",
    "     GPIO.output(pin,GPIO.LOW)"
   ]
  },
  {
   "cell_type": "code",
   "execution_count": null,
   "metadata": {},
   "outputs": [],
   "source": []
  }
 ],
 "metadata": {
  "kernelspec": {
   "display_name": "Python 3",
   "language": "python",
   "name": "python3"
  },
  "language_info": {
   "codemirror_mode": {
    "name": "ipython",
    "version": 3
   },
   "file_extension": ".py",
   "mimetype": "text/x-python",
   "name": "python",
   "nbconvert_exporter": "python",
   "pygments_lexer": "ipython3",
   "version": "3.7.3"
  }
 },
 "nbformat": 4,
 "nbformat_minor": 2
}
