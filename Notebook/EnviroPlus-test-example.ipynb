{
 "cells": [
  {
   "cell_type": "markdown",
   "id": "0e9d337d",
   "metadata": {},
   "source": [
    "# BME280 Sensor\n",
    "## Temperature | Humidity| Pressure "
   ]
  },
  {
   "cell_type": "code",
   "execution_count": 1,
   "id": "6a4d59f6",
   "metadata": {},
   "outputs": [],
   "source": [
    "from bme280 import BME280\n",
    "bme280 = BME280()"
   ]
  },
  {
   "cell_type": "code",
   "execution_count": 4,
   "id": "5b9f4bf2",
   "metadata": {},
   "outputs": [
    {
     "data": {
      "text/plain": [
       "21.616594625473954"
      ]
     },
     "execution_count": 4,
     "metadata": {},
     "output_type": "execute_result"
    }
   ],
   "source": [
    "bme280.get_temperature()"
   ]
  },
  {
   "cell_type": "code",
   "execution_count": 5,
   "id": "0af16b40",
   "metadata": {},
   "outputs": [
    {
     "data": {
      "text/plain": [
       "985.6820635173302"
      ]
     },
     "execution_count": 5,
     "metadata": {},
     "output_type": "execute_result"
    }
   ],
   "source": [
    "bme280.get_pressure()"
   ]
  },
  {
   "cell_type": "code",
   "execution_count": 6,
   "id": "b706f27f",
   "metadata": {},
   "outputs": [
    {
     "data": {
      "text/plain": [
       "62.679190211909315"
      ]
     },
     "execution_count": 6,
     "metadata": {},
     "output_type": "execute_result"
    }
   ],
   "source": [
    "bme280.get_humidity()"
   ]
  },
  {
   "cell_type": "markdown",
   "id": "c1224c7d",
   "metadata": {},
   "source": [
    "# MICS6814 analog gas sensor and ADS1015 analog to digital converter (ADC)\n",
    "\n",
    "The major gases/vapours that the sensor detects are: carbon monoxide (reducing), nitrogen dioxide (oxidising), and ammonia (NH3), but it is also sensitive to others, including hydrogen, ethanol, and hydrocarbons.\n",
    "\n",
    "* The **reducing and NH3** resistance readings will **drop with increasing concentrations** of the gases that they detect.\n",
    "* The **oxidising** sensor will **increase with increasing** levels of nitrogen dioxide."
   ]
  },
  {
   "cell_type": "code",
   "execution_count": 7,
   "id": "d3108de2",
   "metadata": {},
   "outputs": [],
   "source": [
    "import time\n",
    "from enviroplus import gas"
   ]
  },
  {
   "cell_type": "code",
   "execution_count": 13,
   "id": "22fde1b2",
   "metadata": {},
   "outputs": [
    {
     "data": {
      "text/plain": [
       "Oxidising: 2666.67 Ohms\n",
       "Reducing: 644000.00 Ohms\n",
       "NH3: 36771.08 Ohms"
      ]
     },
     "execution_count": 13,
     "metadata": {},
     "output_type": "execute_result"
    }
   ],
   "source": [
    "gas.read_all()"
   ]
  },
  {
   "cell_type": "markdown",
   "id": "b822f4af",
   "metadata": {},
   "source": [
    "# LTR-559 Light and Proximity Sensor"
   ]
  },
  {
   "cell_type": "code",
   "execution_count": 14,
   "id": "094e0ff0",
   "metadata": {},
   "outputs": [],
   "source": [
    "from ltr559 import LTR559\n",
    "ltr559 = LTR559()"
   ]
  },
  {
   "cell_type": "code",
   "execution_count": 15,
   "id": "ab07b088",
   "metadata": {},
   "outputs": [
    {
     "data": {
      "text/plain": [
       "2.32725"
      ]
     },
     "execution_count": 15,
     "metadata": {},
     "output_type": "execute_result"
    }
   ],
   "source": [
    "ltr559.get_lux()"
   ]
  },
  {
   "cell_type": "code",
   "execution_count": 17,
   "id": "face7633",
   "metadata": {},
   "outputs": [
    {
     "data": {
      "text/plain": [
       "939"
      ]
     },
     "execution_count": 17,
     "metadata": {},
     "output_type": "execute_result"
    }
   ],
   "source": [
    "ltr559.get_proximity()"
   ]
  },
  {
   "cell_type": "markdown",
   "id": "24ddb564",
   "metadata": {},
   "source": [
    "# MEMS microphone "
   ]
  },
  {
   "cell_type": "code",
   "execution_count": 25,
   "id": "5c01e348",
   "metadata": {},
   "outputs": [],
   "source": [
    "from enviroplus.noise import Noise\n",
    "import sounddevice\n",
    "import numpy\n",
    "noise = Noise()"
   ]
  },
  {
   "cell_type": "code",
   "execution_count": 26,
   "id": "5645aeb7",
   "metadata": {},
   "outputs": [
    {
     "name": "stdout",
     "output_type": "stream",
     "text": [
      "0.0 0.0 0.0 0.0\n"
     ]
    }
   ],
   "source": [
    "low, mid, high, amp = noise.get_noise_profile()\n",
    "low *= 128\n",
    "mid *= 128\n",
    "high *= 128\n",
    "amp *= 64\n",
    "\n",
    "print(low, mid, high, amp)"
   ]
  },
  {
   "cell_type": "markdown",
   "id": "dbec9f6d",
   "metadata": {},
   "source": [
    "# ST7735 0.96\" colour LCD (160x80)"
   ]
  },
  {
   "cell_type": "code",
   "execution_count": 46,
   "id": "fb62732b",
   "metadata": {},
   "outputs": [],
   "source": [
    "import ST7735\n",
    "from PIL import Image, ImageDraw, ImageFont\n",
    "from fonts.ttf import RobotoMedium as UserFont\n",
    "\n",
    "disp = ST7735.ST7735(\n",
    "    port=0,\n",
    "    cs=1,\n",
    "    dc=9,\n",
    "    backlight=12,\n",
    "    rotation=270,\n",
    "    spi_speed_hz=10000000\n",
    ")"
   ]
  },
  {
   "cell_type": "code",
   "execution_count": 31,
   "id": "4e0fe058",
   "metadata": {},
   "outputs": [],
   "source": [
    "disp.begin()\n",
    "\n",
    "WIDTH = disp.width\n",
    "HEIGHT = disp.height\n",
    "\n",
    "img = Image.new('RGB', (WIDTH, HEIGHT), color=(0, 0, 0))\n",
    "draw = ImageDraw.Draw(img)"
   ]
  },
  {
   "cell_type": "code",
   "execution_count": 49,
   "id": "b82effcc",
   "metadata": {},
   "outputs": [],
   "source": [
    "back_colour = (0, 170, 170)\n",
    "\n",
    "draw.rectangle((0, 0, 160, 80), back_colour)\n",
    "disp.display(img)"
   ]
  },
  {
   "cell_type": "code",
   "execution_count": 57,
   "id": "26281119",
   "metadata": {},
   "outputs": [],
   "source": [
    "# Position on LCD\n",
    "x = 10\n",
    "y = 10\n",
    "\n",
    "# Font to use, size and color\n",
    "font_size = 25\n",
    "font = ImageFont.truetype(UserFont, font_size)\n",
    "text_colour = (255, 255, 255) #RGB colors\n",
    "\n",
    "#What you want to display\n",
    "message = \"Hello World\"\n",
    "\n",
    "#The background of what you want to display\n",
    "back_colour = (0, 170, 170) #RGB colors\n",
    "draw.rectangle((0, 0, 160, 80), back_colour)\n",
    "\n",
    "#Setup text\n",
    "draw.text((x, y), message, fill=text_colour, font=font)\n",
    "\n",
    "#Show on the LCD\n",
    "disp.display(img)"
   ]
  },
  {
   "cell_type": "code",
   "execution_count": null,
   "id": "dd6428d1",
   "metadata": {},
   "outputs": [],
   "source": []
  }
 ],
 "metadata": {
  "kernelspec": {
   "display_name": "Python 3",
   "language": "python",
   "name": "python3"
  },
  "language_info": {
   "codemirror_mode": {
    "name": "ipython",
    "version": 3
   },
   "file_extension": ".py",
   "mimetype": "text/x-python",
   "name": "python",
   "nbconvert_exporter": "python",
   "pygments_lexer": "ipython3",
   "version": "3.7.3"
  }
 },
 "nbformat": 4,
 "nbformat_minor": 5
}
