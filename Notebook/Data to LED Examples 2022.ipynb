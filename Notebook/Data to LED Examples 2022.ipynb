{
 "cells": [
  {
   "cell_type": "markdown",
   "metadata": {},
   "source": [
    "# Data to LED Examples\n",
    "\n",
    "This notebook will adjust LEDS connected to pins 18-21"
   ]
  },
  {
   "cell_type": "markdown",
   "metadata": {},
   "source": [
    "# Steps to use a numbered GPIO PIN\n",
    "1. import GPIO library\n",
    "2. clear the warnings\n",
    "3. set GPIO.BCM mode\n",
    "4. set the pin as output\n"
   ]
  },
  {
   "cell_type": "code",
   "execution_count": 10,
   "metadata": {},
   "outputs": [
    {
     "name": "stdout",
     "output_type": "stream",
     "text": [
      "Current working directory:\n",
      "/home/pi/codeattacc-connected/Notebook\n",
      "\n",
      "Available files:\n",
      "Full-Turkey-Creek-Sensor-Data.csv\n",
      "recordings-073021-114357.csv\n",
      "recordings-073021-151701.csv\n",
      "SAMPLE_recording_8-072422-223527.csv\n",
      "SAMPLE-recordings-073021-114357.csv\n",
      "SAMPLE-rpiz_sensor-1-20180719-sensorlog.csv\n",
      "site2.csv\n"
     ]
    }
   ],
   "source": [
    "print (\"Current working directory:\")\n",
    "!pwd\n",
    "print (\"\\nAvailable files:\")\n",
    "!ls *.csv"
   ]
  },
  {
   "cell_type": "code",
   "execution_count": 12,
   "metadata": {},
   "outputs": [],
   "source": [
    "# Insert the file name\n",
    "datafile = 'recordings-073021-151701.csv'\n"
   ]
  },
  {
   "cell_type": "code",
   "execution_count": 13,
   "metadata": {},
   "outputs": [
    {
     "data": {
      "text/html": [
       "<div>\n",
       "<style scoped>\n",
       "    .dataframe tbody tr th:only-of-type {\n",
       "        vertical-align: middle;\n",
       "    }\n",
       "\n",
       "    .dataframe tbody tr th {\n",
       "        vertical-align: top;\n",
       "    }\n",
       "\n",
       "    .dataframe thead th {\n",
       "        text-align: right;\n",
       "    }\n",
       "</style>\n",
       "<table border=\"1\" class=\"dataframe\">\n",
       "  <thead>\n",
       "    <tr style=\"text-align: right;\">\n",
       "      <th></th>\n",
       "      <th>recording</th>\n",
       "      <th>date</th>\n",
       "      <th>time</th>\n",
       "      <th>temperature</th>\n",
       "      <th>humidity</th>\n",
       "      <th>pressure</th>\n",
       "      <th>lux</th>\n",
       "      <th>oxidizing</th>\n",
       "      <th>reducing</th>\n",
       "      <th>nh3</th>\n",
       "      <th>noise_amp</th>\n",
       "      <th>pm1_0</th>\n",
       "      <th>pm2_5</th>\n",
       "      <th>pm_10</th>\n",
       "    </tr>\n",
       "  </thead>\n",
       "  <tbody>\n",
       "    <tr>\n",
       "      <th>0</th>\n",
       "      <td>recording_3</td>\n",
       "      <td>07/25/22</td>\n",
       "      <td>16:49:54</td>\n",
       "      <td>72.496087</td>\n",
       "      <td>46.611444</td>\n",
       "      <td>1000.068354</td>\n",
       "      <td>65.06325</td>\n",
       "      <td>9776.828617</td>\n",
       "      <td>767.653496</td>\n",
       "      <td>728.444803</td>\n",
       "      <td>24.021394</td>\n",
       "      <td>4.0</td>\n",
       "      <td>4.0</td>\n",
       "      <td>4.0</td>\n",
       "    </tr>\n",
       "    <tr>\n",
       "      <th>1</th>\n",
       "      <td>recording_3</td>\n",
       "      <td>07/25/22</td>\n",
       "      <td>16:49:55</td>\n",
       "      <td>92.807560</td>\n",
       "      <td>45.907393</td>\n",
       "      <td>1000.074148</td>\n",
       "      <td>69.15195</td>\n",
       "      <td>659.959759</td>\n",
       "      <td>165532.928748</td>\n",
       "      <td>1623.947615</td>\n",
       "      <td>16.958580</td>\n",
       "      <td>5.0</td>\n",
       "      <td>5.0</td>\n",
       "      <td>5.0</td>\n",
       "    </tr>\n",
       "    <tr>\n",
       "      <th>2</th>\n",
       "      <td>recording_3</td>\n",
       "      <td>07/25/22</td>\n",
       "      <td>16:49:57</td>\n",
       "      <td>92.767447</td>\n",
       "      <td>45.978827</td>\n",
       "      <td>1000.084502</td>\n",
       "      <td>62.27830</td>\n",
       "      <td>682.769726</td>\n",
       "      <td>257685.550605</td>\n",
       "      <td>3502.535619</td>\n",
       "      <td>19.356770</td>\n",
       "      <td>5.0</td>\n",
       "      <td>6.0</td>\n",
       "      <td>6.0</td>\n",
       "    </tr>\n",
       "    <tr>\n",
       "      <th>3</th>\n",
       "      <td>recording_3</td>\n",
       "      <td>07/25/22</td>\n",
       "      <td>16:49:59</td>\n",
       "      <td>92.702695</td>\n",
       "      <td>45.823401</td>\n",
       "      <td>1000.088602</td>\n",
       "      <td>58.60430</td>\n",
       "      <td>728.444803</td>\n",
       "      <td>328549.356223</td>\n",
       "      <td>5523.096130</td>\n",
       "      <td>20.851212</td>\n",
       "      <td>5.0</td>\n",
       "      <td>6.0</td>\n",
       "      <td>6.0</td>\n",
       "    </tr>\n",
       "    <tr>\n",
       "      <th>4</th>\n",
       "      <td>recording_3</td>\n",
       "      <td>07/25/22</td>\n",
       "      <td>16:50:01</td>\n",
       "      <td>92.632213</td>\n",
       "      <td>45.089221</td>\n",
       "      <td>1000.092257</td>\n",
       "      <td>65.30020</td>\n",
       "      <td>780.735108</td>\n",
       "      <td>395902.796882</td>\n",
       "      <td>7983.380940</td>\n",
       "      <td>25.476972</td>\n",
       "      <td>5.0</td>\n",
       "      <td>6.0</td>\n",
       "      <td>6.0</td>\n",
       "    </tr>\n",
       "  </tbody>\n",
       "</table>\n",
       "</div>"
      ],
      "text/plain": [
       "     recording      date      time  temperature   humidity     pressure  \\\n",
       "0  recording_3  07/25/22  16:49:54    72.496087  46.611444  1000.068354   \n",
       "1  recording_3  07/25/22  16:49:55    92.807560  45.907393  1000.074148   \n",
       "2  recording_3  07/25/22  16:49:57    92.767447  45.978827  1000.084502   \n",
       "3  recording_3  07/25/22  16:49:59    92.702695  45.823401  1000.088602   \n",
       "4  recording_3  07/25/22  16:50:01    92.632213  45.089221  1000.092257   \n",
       "\n",
       "        lux    oxidizing       reducing          nh3  noise_amp  pm1_0  pm2_5  \\\n",
       "0  65.06325  9776.828617     767.653496   728.444803  24.021394    4.0    4.0   \n",
       "1  69.15195   659.959759  165532.928748  1623.947615  16.958580    5.0    5.0   \n",
       "2  62.27830   682.769726  257685.550605  3502.535619  19.356770    5.0    6.0   \n",
       "3  58.60430   728.444803  328549.356223  5523.096130  20.851212    5.0    6.0   \n",
       "4  65.30020   780.735108  395902.796882  7983.380940  25.476972    5.0    6.0   \n",
       "\n",
       "   pm_10  \n",
       "0    4.0  \n",
       "1    5.0  \n",
       "2    6.0  \n",
       "3    6.0  \n",
       "4    6.0  "
      ]
     },
     "execution_count": 13,
     "metadata": {},
     "output_type": "execute_result"
    }
   ],
   "source": [
    "# Libraries needed to do the work\n",
    "import pandas as pd # The Pandas library makes it easier to work with data\n",
    "import numpy as np # Numpy adds additional numerical methods (math functions)\n",
    "import matplotlib.pyplot as plt\n",
    "from matplotlib import style\n",
    "\n",
    "style.use('fivethirtyeight')\n",
    "\n",
    "# Read in the csv datafile from above, and save it to the Pandas \"dataframe\" named sensor_data\n",
    "# and add the header names to match the data\n",
    "sensor_data = pd.read_csv(datafile)\n",
    "\n",
    "# Print the first 5 lines of the dataframe named sensor_data\n",
    "sensor_data.head()"
   ]
  },
  {
   "cell_type": "code",
   "execution_count": 14,
   "metadata": {},
   "outputs": [],
   "source": [
    "import RPi.GPIO as GPIO   ## Library that allows the GPIO pins to be used\n",
    "import time\n",
    "##Setup the GPIO Pins\n",
    "for pin in range(18,22):\n",
    "    GPIO.setwarnings(False)  ## Removes any warnings if the pin was previously used\n",
    "    GPIO.setmode(GPIO.BCM)   ## Allows the use of the GPIO pin numbers instead of the physical pin numbers\n",
    "    GPIO.setup(pin,GPIO.OUT)\n",
    "    GPIO.output(pin,GPIO.LOW) ## Sets GPIO pin 21 output voltage low/off"
   ]
  },
  {
   "cell_type": "markdown",
   "metadata": {},
   "source": [
    "# Lights adjust based on the Humidity readings\n",
    "\n",
    "More leds will turn on based on the humidity reading found in the data set"
   ]
  },
  {
   "cell_type": "code",
   "execution_count": 15,
   "metadata": {},
   "outputs": [
    {
     "name": "stdout",
     "output_type": "stream",
     "text": [
      "The maximum humidity in the data is:  48.66200206928198\n"
     ]
    }
   ],
   "source": [
    "max_humidity = sensor_data[\"humidity\"].max()\n",
    "print(\"The maximum humidity in the data is: \", max_humidity)"
   ]
  },
  {
   "cell_type": "code",
   "execution_count": 16,
   "metadata": {},
   "outputs": [
    {
     "data": {
      "text/plain": [
       "21"
      ]
     },
     "execution_count": 16,
     "metadata": {},
     "output_type": "execute_result"
    }
   ],
   "source": [
    "# Using NumPY Interpolation the below interpolates the sensors data into a given range which in\n",
    "# this case are the number of LEDS connected\n",
    "# np.interp(sensorvalue, [min of all sensorvalues, max of all sensorvalues] , [first led pin, last led pin])\n",
    "int(np.interp(max_humidity, [sensor_data[\"humidity\"].min(),sensor_data[\"humidity\"].max()], [18,21]))"
   ]
  },
  {
   "cell_type": "code",
   "execution_count": 23,
   "metadata": {},
   "outputs": [
    {
     "ename": "KeyboardInterrupt",
     "evalue": "",
     "output_type": "error",
     "traceback": [
      "\u001b[0;31m---------------------------------------------------------------------------\u001b[0m",
      "\u001b[0;31mKeyboardInterrupt\u001b[0m                         Traceback (most recent call last)",
      "\u001b[0;32m<ipython-input-23-a17854f95ba4>\u001b[0m in \u001b[0;36m<module>\u001b[0;34m\u001b[0m\n\u001b[1;32m      6\u001b[0m     \u001b[0;32mfor\u001b[0m \u001b[0mpins\u001b[0m \u001b[0;32min\u001b[0m \u001b[0mrange\u001b[0m\u001b[0;34m(\u001b[0m\u001b[0;36m18\u001b[0m\u001b[0;34m,\u001b[0m \u001b[0mpin\u001b[0m \u001b[0;34m+\u001b[0m\u001b[0;36m1\u001b[0m\u001b[0;34m)\u001b[0m\u001b[0;34m:\u001b[0m\u001b[0;34m\u001b[0m\u001b[0;34m\u001b[0m\u001b[0m\n\u001b[1;32m      7\u001b[0m         \u001b[0mGPIO\u001b[0m\u001b[0;34m.\u001b[0m\u001b[0moutput\u001b[0m\u001b[0;34m(\u001b[0m\u001b[0mpins\u001b[0m\u001b[0;34m,\u001b[0m\u001b[0mGPIO\u001b[0m\u001b[0;34m.\u001b[0m\u001b[0mHIGH\u001b[0m\u001b[0;34m)\u001b[0m\u001b[0;34m\u001b[0m\u001b[0;34m\u001b[0m\u001b[0m\n\u001b[0;32m----> 8\u001b[0;31m     \u001b[0mtime\u001b[0m\u001b[0;34m.\u001b[0m\u001b[0msleep\u001b[0m\u001b[0;34m(\u001b[0m\u001b[0;36m2\u001b[0m\u001b[0;34m)\u001b[0m\u001b[0;34m\u001b[0m\u001b[0;34m\u001b[0m\u001b[0m\n\u001b[0m\u001b[1;32m      9\u001b[0m     \u001b[0;31m#Turn all the pins off before checking the next value\u001b[0m\u001b[0;34m\u001b[0m\u001b[0;34m\u001b[0m\u001b[0;34m\u001b[0m\u001b[0m\n\u001b[1;32m     10\u001b[0m     \u001b[0;32mfor\u001b[0m \u001b[0mpin_off\u001b[0m \u001b[0;32min\u001b[0m \u001b[0mrange\u001b[0m\u001b[0;34m(\u001b[0m\u001b[0;36m18\u001b[0m\u001b[0;34m,\u001b[0m\u001b[0;36m22\u001b[0m\u001b[0;34m)\u001b[0m\u001b[0;34m:\u001b[0m\u001b[0;34m\u001b[0m\u001b[0;34m\u001b[0m\u001b[0m\n",
      "\u001b[0;31mKeyboardInterrupt\u001b[0m: "
     ]
    }
   ],
   "source": [
    "## Cycle through all the values in the data set under Humidity\n",
    "for sensorvalue in sensor_data[\"humidity\"]:\n",
    "    #Interpolate the current value\n",
    "    pin = int(np.interp(sensorvalue, [sensor_data[\"humidity\"].min(),sensor_data[\"humidity\"].max()], [18,21]))\n",
    "    #Turn on the number of pins up to the interpolated value\n",
    "    for pins in range(18, pin +1):\n",
    "        GPIO.output(pins,GPIO.HIGH)\n",
    "    time.sleep(2)\n",
    "    #Turn all the pins off before checking the next value\n",
    "    for pin_off in range(18,22):\n",
    "        GPIO.output(pin_off,GPIO.LOW)\n",
    "    time.sleep(1)\n",
    "# Turn all pins off\n",
    "for pin_off in range(18,22):\n",
    "        GPIO.output(pin_off,GPIO.LOW)"
   ]
  },
  {
   "cell_type": "markdown",
   "metadata": {},
   "source": [
    "# Stop Light Colors from Data\n",
    "\n",
    "Connect:\n",
    "* Red LED to pin 18\n",
    "* Yellow LED to pin 19\n",
    "* Green LED to pin 20"
   ]
  },
  {
   "cell_type": "code",
   "execution_count": 18,
   "metadata": {},
   "outputs": [
    {
     "name": "stdout",
     "output_type": "stream",
     "text": [
      "The maximum value for lux in the data is:  117.09125\n",
      "20\n",
      "The min value for lux in the data is:  35.4939\n",
      "18\n",
      "The mean value for lux in the data is:  77.31777499999998\n",
      "19\n"
     ]
    }
   ],
   "source": [
    "#Using Analog channel 0 (A0) for this example\n",
    "# np.interp(sensorvalue, [min of all sensorvalues, max of all sensorvalues] , [first led pin, last led pin])\n",
    "max_a0 = sensor_data[\"lux\"].max()\n",
    "print(\"The maximum value for lux in the data is: \", max_a0)\n",
    "print(int(np.interp(max_a0, [sensor_data[\"lux\"].min(),sensor_data[\"lux\"].max()], [18,20])))\n",
    "min_a0 = sensor_data[\"lux\"].min()\n",
    "print(\"The min value for lux in the data is: \", min_a0)\n",
    "print(int(np.interp(min_a0, [sensor_data[\"lux\"].min(),sensor_data[\"lux\"].max()], [18,20])))\n",
    "mean_a0 = sensor_data[\"lux\"].mean()\n",
    "print(\"The mean value for lux in the data is: \", mean_a0)\n",
    "print(int(np.interp(mean_a0, [sensor_data[\"lux\"].min(),sensor_data[\"lux\"].max()], [18,20])))"
   ]
  },
  {
   "cell_type": "markdown",
   "metadata": {},
   "source": [
    "#### Note: Analog sensors generally have higher readings when nothing is detected and lower reading when something is detected. "
   ]
  },
  {
   "cell_type": "code",
   "execution_count": 21,
   "metadata": {},
   "outputs": [],
   "source": [
    "# An easily changeable value to pick which sensor to use\n",
    "sensor_value_name = \"nh3\"\n",
    "pins_to_use = [18,20]\n",
    "# Cycle through all the values in the data set under Humidity\n",
    "for sensorvalue in sensor_data[sensor_value_name]:\n",
    "    #Interpolate the current value\n",
    "    pin = int(np.interp(sensorvalue, [sensor_data[sensor_value_name].min(),sensor_data[sensor_value_name].max()], pins_to_use))\n",
    "    for pin_num in range(18,pin +1):\n",
    "        GPIO.output(pin_num,GPIO.HIGH)\n",
    "    time.sleep(2)\n",
    "    #Turn all the pins off before checking the next value\n",
    "    for pin in range (18,22):\n",
    "     GPIO.output(pin,GPIO.LOW)\n",
    "    \n",
    "    #GPIO.output(pin,GPIO.LOW)\n",
    "    time.sleep(1)\n"
   ]
  },
  {
   "cell_type": "markdown",
   "metadata": {},
   "source": [
    "# Turn all LEDS (pins) Off"
   ]
  },
  {
   "cell_type": "code",
   "execution_count": 9,
   "metadata": {},
   "outputs": [],
   "source": [
    "for pin in range (18,22):\n",
    "     GPIO.output(pin,GPIO.LOW)"
   ]
  },
  {
   "cell_type": "code",
   "execution_count": null,
   "metadata": {},
   "outputs": [],
   "source": []
  }
 ],
 "metadata": {
  "kernelspec": {
   "display_name": "Python 3",
   "language": "python",
   "name": "python3"
  },
  "language_info": {
   "codemirror_mode": {
    "name": "ipython",
    "version": 3
   },
   "file_extension": ".py",
   "mimetype": "text/x-python",
   "name": "python",
   "nbconvert_exporter": "python",
   "pygments_lexer": "ipython3",
   "version": "3.7.3"
  }
 },
 "nbformat": 4,
 "nbformat_minor": 2
}
