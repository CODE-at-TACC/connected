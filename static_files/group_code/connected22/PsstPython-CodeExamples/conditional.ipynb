{
 "cells": [
  {
   "cell_type": "code",
   "execution_count": 18,
   "id": "8feda03b",
   "metadata": {},
   "outputs": [],
   "source": [
    "closet = \"Phone\"\n",
    "nightstand = \" no Phone\""
   ]
  },
  {
   "cell_type": "code",
   "execution_count": 19,
   "id": "52ecd96d",
   "metadata": {},
   "outputs": [
    {
     "name": "stdout",
     "output_type": "stream",
     "text": [
      "I found it in the closet\n"
     ]
    }
   ],
   "source": [
    "if nightstand == \"Phone\":\n",
    "    print(\"I found it on the nightstand\")\n",
    "elif closet == \"Phone\":\n",
    "    print(\"I found it in the closet\")\n",
    "else :\n",
    "    print(\"I didnt find it\")"
   ]
  },
  {
   "cell_type": "code",
   "execution_count": null,
   "id": "e363a6aa",
   "metadata": {},
   "outputs": [],
   "source": []
  },
  {
   "cell_type": "code",
   "execution_count": null,
   "id": "7db5459e",
   "metadata": {},
   "outputs": [],
   "source": []
  }
 ],
 "metadata": {
  "kernelspec": {
   "display_name": "Python 3",
   "language": "python",
   "name": "python3"
  },
  "language_info": {
   "codemirror_mode": {
    "name": "ipython",
    "version": 3
   },
   "file_extension": ".py",
   "mimetype": "text/x-python",
   "name": "python",
   "nbconvert_exporter": "python",
   "pygments_lexer": "ipython3",
   "version": "3.7.3"
  }
 },
 "nbformat": 4,
 "nbformat_minor": 5
}
