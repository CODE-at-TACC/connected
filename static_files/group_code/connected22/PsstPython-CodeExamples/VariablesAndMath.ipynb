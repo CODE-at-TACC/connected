{
 "cells": [
  {
   "cell_type": "code",
   "execution_count": 7,
   "id": "53f915ba",
   "metadata": {},
   "outputs": [
    {
     "name": "stdout",
     "output_type": "stream",
     "text": [
      "initial values: 1 2 3\n",
      "\n",
      "this is x: 4\n",
      "\n",
      "Hello World, how are you?\n"
     ]
    }
   ],
   "source": [
    "# Variables in Python are used to store values and perform functions using those values; these values may be strings, integers, etc. You may create variables by writing lines of code such as \"a = 5\"\n",
    "# You can perform mathematic functions in python using symbols such as +,-,*, and %\n",
    "# Variables can be used in a program which uses several mathematic functions using the same operands\n",
    "\n",
    "a, b, c = 1, 2, 3\n",
    "print('initial values:', a, b, c)\n",
    "print()\n",
    "x = a + c\n",
    "\n",
    "s = \"Hello World, \"\n",
    "s2 = \"how are you?\"\n",
    "\n",
    "print('this is x:', x)\n",
    "print()\n",
    "print(s + s2)"
   ]
  },
  {
   "cell_type": "code",
   "execution_count": null,
   "id": "b52cf104",
   "metadata": {},
   "outputs": [],
   "source": []
  }
 ],
 "metadata": {
  "kernelspec": {
   "display_name": "Python 3",
   "language": "python",
   "name": "python3"
  },
  "language_info": {
   "codemirror_mode": {
    "name": "ipython",
    "version": 3
   },
   "file_extension": ".py",
   "mimetype": "text/x-python",
   "name": "python",
   "nbconvert_exporter": "python",
   "pygments_lexer": "ipython3",
   "version": "3.7.3"
  }
 },
 "nbformat": 4,
 "nbformat_minor": 5
}
